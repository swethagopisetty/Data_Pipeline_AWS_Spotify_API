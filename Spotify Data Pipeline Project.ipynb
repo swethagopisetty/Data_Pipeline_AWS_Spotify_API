{
 "cells": [
  {
   "cell_type": "code",
   "execution_count": 1,
   "id": "45dd8125-7197-41d2-ab9a-3b849a0165d3",
   "metadata": {},
   "outputs": [
    {
     "name": "stdout",
     "output_type": "stream",
     "text": [
      "Collecting spotipy\n",
      "  Downloading spotipy-2.25.1-py3-none-any.whl.metadata (5.1 kB)\n",
      "Collecting redis>=3.5.3 (from spotipy)\n",
      "  Downloading redis-5.2.1-py3-none-any.whl.metadata (9.1 kB)\n",
      "Requirement already satisfied: requests>=2.25.0 in c:\\users\\sweth\\appdata\\local\\programs\\python\\python313\\lib\\site-packages (from spotipy) (2.32.3)\n",
      "Requirement already satisfied: urllib3>=1.26.0 in c:\\users\\sweth\\appdata\\local\\programs\\python\\python313\\lib\\site-packages (from spotipy) (2.3.0)\n",
      "Requirement already satisfied: charset-normalizer<4,>=2 in c:\\users\\sweth\\appdata\\local\\programs\\python\\python313\\lib\\site-packages (from requests>=2.25.0->spotipy) (3.4.1)\n",
      "Requirement already satisfied: idna<4,>=2.5 in c:\\users\\sweth\\appdata\\local\\programs\\python\\python313\\lib\\site-packages (from requests>=2.25.0->spotipy) (3.10)\n",
      "Requirement already satisfied: certifi>=2017.4.17 in c:\\users\\sweth\\appdata\\local\\programs\\python\\python313\\lib\\site-packages (from requests>=2.25.0->spotipy) (2025.1.31)\n",
      "Downloading spotipy-2.25.1-py3-none-any.whl (31 kB)\n",
      "Downloading redis-5.2.1-py3-none-any.whl (261 kB)\n",
      "Installing collected packages: redis, spotipy\n",
      "Successfully installed redis-5.2.1 spotipy-2.25.1\n",
      "Note: you may need to restart the kernel to use updated packages.\n"
     ]
    },
    {
     "name": "stderr",
     "output_type": "stream",
     "text": [
      "\n",
      "[notice] A new release of pip is available: 24.3.1 -> 25.0.1\n",
      "[notice] To update, run: python.exe -m pip install --upgrade pip\n"
     ]
    }
   ],
   "source": [
    "pip install spotipy"
   ]
  },
  {
   "cell_type": "code",
   "execution_count": 3,
   "id": "f0540256-244c-4849-ba5d-85e7e6734ea8",
   "metadata": {},
   "outputs": [],
   "source": [
    "import spotipy\n",
    "from spotipy.oauth2 import SpotifyClientCredentials\n",
    "import pandas as pd"
   ]
  },
  {
   "cell_type": "code",
   "execution_count": 4,
   "id": "80c51411-f583-4f21-abae-0eb276981820",
   "metadata": {},
   "outputs": [],
   "source": [
    "#add your keys here\n",
    "client_credentials_manager = SpotifyClientCredentials(client_id=\"ab9b224c7964489886e36c0bb4b41c4c\", client_secret=\"526d0972b5764126aa8e938621b80945\")"
   ]
  },
  {
   "cell_type": "code",
   "execution_count": 5,
   "id": "8ee13ec2-2098-4804-8426-b596216cce5d",
   "metadata": {},
   "outputs": [],
   "source": [
    "sp = spotipy.Spotify(client_credentials_manager = client_credentials_manager)"
   ]
  },
  {
   "cell_type": "code",
   "execution_count": 17,
   "id": "8c8199a0-6c7d-429b-96f6-c3325b7b6360",
   "metadata": {},
   "outputs": [],
   "source": [
    "playlist_link = \"https://open.spotify.com/playlist/3cEYpjA9oz9GiPac4AsH4n\""
   ]
  },
  {
   "cell_type": "code",
   "execution_count": 24,
   "id": "fcd2e766-ede5-4666-865a-96fad4c8a5f1",
   "metadata": {},
   "outputs": [],
   "source": [
    "playlist_URI = playlist_link.split(\"/\")[-1] "
   ]
  },
  {
   "cell_type": "code",
   "execution_count": 12,
   "id": "e462a69a-011d-47ca-b572-d63f6f71a22f",
   "metadata": {},
   "outputs": [
    {
     "data": {
      "text/plain": [
       "'37i9dQZEVXbMDoHDwVN2tF'"
      ]
     },
     "execution_count": 12,
     "metadata": {},
     "output_type": "execute_result"
    }
   ],
   "source": [
    "playlist_URI"
   ]
  },
  {
   "cell_type": "code",
   "execution_count": 22,
   "id": "892a23ca-63ac-44ff-a2c8-6720e750666d",
   "metadata": {},
   "outputs": [],
   "source": [
    "data = sp.playlist_tracks(playlist_URI)"
   ]
  },
  {
   "cell_type": "code",
   "execution_count": null,
   "id": "9c0d6af5-5c05-4613-b39b-3bdddfd1a4ca",
   "metadata": {},
   "outputs": [],
   "source": [
    "data['items'][0]['track']['album']['id']"
   ]
  },
  {
   "cell_type": "code",
   "execution_count": 29,
   "id": "c3cb0e7b-7b4f-4d73-a07b-251e0e7cb47e",
   "metadata": {},
   "outputs": [
    {
     "data": {
      "text/plain": [
       "'Progressive Psy Trance Picks Vol.8'"
      ]
     },
     "execution_count": 29,
     "metadata": {},
     "output_type": "execute_result"
    }
   ],
   "source": [
    "data['items'][0]['track']['album']['name']"
   ]
  },
  {
   "cell_type": "code",
   "execution_count": 31,
   "id": "f89b4c5f-9590-45b3-bb28-e42c6e40fe0c",
   "metadata": {},
   "outputs": [
    {
     "data": {
      "text/plain": [
       "'2012-04-02'"
      ]
     },
     "execution_count": 31,
     "metadata": {},
     "output_type": "execute_result"
    }
   ],
   "source": [
    "data['items'][0]['track']['album']['release_date']"
   ]
  },
  {
   "cell_type": "code",
   "execution_count": 33,
   "id": "181cc1d6-5841-474e-a0e3-3672befece99",
   "metadata": {},
   "outputs": [
    {
     "data": {
      "text/plain": [
       "'https://open.spotify.com/album/2pANdqPvxInB0YvcDiw4ko'"
      ]
     },
     "execution_count": 33,
     "metadata": {},
     "output_type": "execute_result"
    }
   ],
   "source": [
    "data['items'][0]['track']['album']['external_urls']['spotify']"
   ]
  },
  {
   "cell_type": "code",
   "execution_count": 34,
   "id": "14f30737-8c59-42e1-ac2c-7a8a667211fc",
   "metadata": {},
   "outputs": [],
   "source": [
    "album_list = [] #to create a data dictionary for making it a DataFrame\n",
    "for row in data['items']:\n",
    "    album_id = row['track']['album']['id']\n",
    "    album_name = row['track']['album']['name']\n",
    "    album_release_date = row['track']['album']['release_date']\n",
    "    album_total_tracks = row['track']['album']['total_tracks']\n",
    "    album_url = row['track']['album']['external_urls']['spotify']\n",
    "    album_element = {'album_id':album_id,'name':album_name,'release_date':album_release_date,\n",
    "                        'total_tracks':album_total_tracks,'url':album_url}\n",
    "    album_list.append(album_element)"
   ]
  },
  {
   "cell_type": "code",
   "execution_count": 35,
   "id": "f5ca25af-722d-4022-aa69-0780b9aa0140",
   "metadata": {},
   "outputs": [
    {
     "data": {
      "text/plain": [
       "[{'album_id': '2pANdqPvxInB0YvcDiw4ko',\n",
       "  'name': 'Progressive Psy Trance Picks Vol.8',\n",
       "  'release_date': '2012-04-02',\n",
       "  'total_tracks': 20,\n",
       "  'url': 'https://open.spotify.com/album/2pANdqPvxInB0YvcDiw4ko'},\n",
       " {'album_id': '6nlfkk5GoXRL1nktlATNsy',\n",
       "  'name': 'Wellness & Dreaming Source',\n",
       "  'release_date': '2015-01-09',\n",
       "  'total_tracks': 25,\n",
       "  'url': 'https://open.spotify.com/album/6nlfkk5GoXRL1nktlATNsy'},\n",
       " {'album_id': '4hnqM0JK4CM1phwfq1Ldyz',\n",
       "  'name': 'This Is Happening',\n",
       "  'release_date': '2010-05-17',\n",
       "  'total_tracks': 9,\n",
       "  'url': 'https://open.spotify.com/album/4hnqM0JK4CM1phwfq1Ldyz'},\n",
       " {'album_id': '2usKFntxa98WHMcyW6xJBz',\n",
       "  'name': 'Glenn Horiuchi Trio / Gelenn Horiuchi Quartet: Mercy / Jump Start / Endpoints / Curl Out / Earthworks / Mind Probe / Null Set / Another Space (A)',\n",
       "  'release_date': '2011-04-01',\n",
       "  'total_tracks': 8,\n",
       "  'url': 'https://open.spotify.com/album/2usKFntxa98WHMcyW6xJBz'},\n",
       " {'album_id': '0ivM6kSawaug0j3tZVusG2',\n",
       "  'name': 'All The Best (Spanish Version)',\n",
       "  'release_date': '2007-01-01',\n",
       "  'total_tracks': 18,\n",
       "  'url': 'https://open.spotify.com/album/0ivM6kSawaug0j3tZVusG2'}]"
      ]
     },
     "execution_count": 35,
     "metadata": {},
     "output_type": "execute_result"
    }
   ],
   "source": [
    "album_list"
   ]
  },
  {
   "cell_type": "code",
   "execution_count": 36,
   "id": "964b6ad3-9364-4e9b-a449-69255391f2c1",
   "metadata": {},
   "outputs": [],
   "source": [
    "artist_list = []  #One album has multiple atists. So we need a nested loop and extract\n",
    "for row in data['items']:\n",
    "    for key, value in row.items():\n",
    "        if key == \"track\":\n",
    "            for artist in value['artists']:\n",
    "                artist_dict = {'artist_id':artist['id'], 'artist_name':artist['name'], 'external_url': artist['href']}\n",
    "                artist_list.append(artist_dict)"
   ]
  },
  {
   "cell_type": "code",
   "execution_count": 37,
   "id": "1baa70ba-fbeb-4b59-b48d-82bbd77eeae2",
   "metadata": {},
   "outputs": [
    {
     "data": {
      "text/plain": [
       "[{'artist_id': '6eSdhw46riw2OUHgMwR8B5',\n",
       "  'artist_name': 'Odiseo',\n",
       "  'external_url': 'https://api.spotify.com/v1/artists/6eSdhw46riw2OUHgMwR8B5'},\n",
       " {'artist_id': '5VQE4WOzPu9h3HnGLuBoA6',\n",
       "  'artist_name': 'Vlasta Marek',\n",
       "  'external_url': 'https://api.spotify.com/v1/artists/5VQE4WOzPu9h3HnGLuBoA6'},\n",
       " {'artist_id': '066X20Nz7iquqkkCW6Jxy6',\n",
       "  'artist_name': 'LCD Soundsystem',\n",
       "  'external_url': 'https://api.spotify.com/v1/artists/066X20Nz7iquqkkCW6Jxy6'},\n",
       " {'artist_id': '272ArH9SUAlslQqsSgPJA2',\n",
       "  'artist_name': 'Glenn Horiuchi Trio',\n",
       "  'external_url': 'https://api.spotify.com/v1/artists/272ArH9SUAlslQqsSgPJA2'},\n",
       " {'artist_id': '2KftmGt9sk1yLjsAoloC3M',\n",
       "  'artist_name': 'Zucchero',\n",
       "  'external_url': 'https://api.spotify.com/v1/artists/2KftmGt9sk1yLjsAoloC3M'}]"
      ]
     },
     "execution_count": 37,
     "metadata": {},
     "output_type": "execute_result"
    }
   ],
   "source": [
    "artist_list"
   ]
  },
  {
   "cell_type": "code",
   "execution_count": 41,
   "id": "038a2ca3-cf67-407b-b76b-37a16cac5eba",
   "metadata": {},
   "outputs": [],
   "source": [
    "song_list = []\n",
    "for row in data['items']:\n",
    "    song_id = row['track']['id']\n",
    "    song_name = row['track']['name']\n",
    "    song_duration = row['track']['duration_ms']\n",
    "    song_url = row['track']['external_urls']['spotify']\n",
    "    song_popularity = row['track']['popularity']\n",
    "    song_added = row['added_at']\n",
    "    album_id = row['track']['album']['id']\n",
    "    artist_id = row['track']['album']['artists'][0]['id']\n",
    "    song_element = {'song_id':song_id,'song_name':song_name,'duration_ms':song_duration,'url':song_url,\n",
    "                    'popularity':song_popularity,'song_added':song_added,'album_id':album_id,\n",
    "                    'artist_id':artist_id\n",
    "                   }\n",
    "    song_list.append(song_element)"
   ]
  },
  {
   "cell_type": "code",
   "execution_count": 38,
   "id": "2f1e1241-dde2-4224-8cb1-be125c380d7e",
   "metadata": {},
   "outputs": [],
   "source": [
    "import pandas as pd"
   ]
  },
  {
   "cell_type": "code",
   "execution_count": 39,
   "id": "424352e2-ccf0-4ec1-937f-1e3dc74f8ddf",
   "metadata": {},
   "outputs": [],
   "source": [
    "album_df = pd.DataFrame.from_dict(album_list)"
   ]
  },
  {
   "cell_type": "code",
   "execution_count": 40,
   "id": "34e39e97-64a9-4c00-a229-5c8b38b2731d",
   "metadata": {},
   "outputs": [
    {
     "data": {
      "text/html": [
       "<div>\n",
       "<style scoped>\n",
       "    .dataframe tbody tr th:only-of-type {\n",
       "        vertical-align: middle;\n",
       "    }\n",
       "\n",
       "    .dataframe tbody tr th {\n",
       "        vertical-align: top;\n",
       "    }\n",
       "\n",
       "    .dataframe thead th {\n",
       "        text-align: right;\n",
       "    }\n",
       "</style>\n",
       "<table border=\"1\" class=\"dataframe\">\n",
       "  <thead>\n",
       "    <tr style=\"text-align: right;\">\n",
       "      <th></th>\n",
       "      <th>album_id</th>\n",
       "      <th>name</th>\n",
       "      <th>release_date</th>\n",
       "      <th>total_tracks</th>\n",
       "      <th>url</th>\n",
       "    </tr>\n",
       "  </thead>\n",
       "  <tbody>\n",
       "    <tr>\n",
       "      <th>0</th>\n",
       "      <td>2pANdqPvxInB0YvcDiw4ko</td>\n",
       "      <td>Progressive Psy Trance Picks Vol.8</td>\n",
       "      <td>2012-04-02</td>\n",
       "      <td>20</td>\n",
       "      <td>https://open.spotify.com/album/2pANdqPvxInB0Yv...</td>\n",
       "    </tr>\n",
       "    <tr>\n",
       "      <th>1</th>\n",
       "      <td>6nlfkk5GoXRL1nktlATNsy</td>\n",
       "      <td>Wellness &amp; Dreaming Source</td>\n",
       "      <td>2015-01-09</td>\n",
       "      <td>25</td>\n",
       "      <td>https://open.spotify.com/album/6nlfkk5GoXRL1nk...</td>\n",
       "    </tr>\n",
       "    <tr>\n",
       "      <th>2</th>\n",
       "      <td>4hnqM0JK4CM1phwfq1Ldyz</td>\n",
       "      <td>This Is Happening</td>\n",
       "      <td>2010-05-17</td>\n",
       "      <td>9</td>\n",
       "      <td>https://open.spotify.com/album/4hnqM0JK4CM1phw...</td>\n",
       "    </tr>\n",
       "    <tr>\n",
       "      <th>3</th>\n",
       "      <td>2usKFntxa98WHMcyW6xJBz</td>\n",
       "      <td>Glenn Horiuchi Trio / Gelenn Horiuchi Quartet:...</td>\n",
       "      <td>2011-04-01</td>\n",
       "      <td>8</td>\n",
       "      <td>https://open.spotify.com/album/2usKFntxa98WHMc...</td>\n",
       "    </tr>\n",
       "    <tr>\n",
       "      <th>4</th>\n",
       "      <td>0ivM6kSawaug0j3tZVusG2</td>\n",
       "      <td>All The Best (Spanish Version)</td>\n",
       "      <td>2007-01-01</td>\n",
       "      <td>18</td>\n",
       "      <td>https://open.spotify.com/album/0ivM6kSawaug0j3...</td>\n",
       "    </tr>\n",
       "  </tbody>\n",
       "</table>\n",
       "</div>"
      ],
      "text/plain": [
       "                 album_id                                               name  \\\n",
       "0  2pANdqPvxInB0YvcDiw4ko                 Progressive Psy Trance Picks Vol.8   \n",
       "1  6nlfkk5GoXRL1nktlATNsy                         Wellness & Dreaming Source   \n",
       "2  4hnqM0JK4CM1phwfq1Ldyz                                  This Is Happening   \n",
       "3  2usKFntxa98WHMcyW6xJBz  Glenn Horiuchi Trio / Gelenn Horiuchi Quartet:...   \n",
       "4  0ivM6kSawaug0j3tZVusG2                     All The Best (Spanish Version)   \n",
       "\n",
       "  release_date  total_tracks  \\\n",
       "0   2012-04-02            20   \n",
       "1   2015-01-09            25   \n",
       "2   2010-05-17             9   \n",
       "3   2011-04-01             8   \n",
       "4   2007-01-01            18   \n",
       "\n",
       "                                                 url  \n",
       "0  https://open.spotify.com/album/2pANdqPvxInB0Yv...  \n",
       "1  https://open.spotify.com/album/6nlfkk5GoXRL1nk...  \n",
       "2  https://open.spotify.com/album/4hnqM0JK4CM1phw...  \n",
       "3  https://open.spotify.com/album/2usKFntxa98WHMc...  \n",
       "4  https://open.spotify.com/album/0ivM6kSawaug0j3...  "
      ]
     },
     "execution_count": 40,
     "metadata": {},
     "output_type": "execute_result"
    }
   ],
   "source": [
    "album_df.head()"
   ]
  },
  {
   "cell_type": "code",
   "execution_count": 42,
   "id": "ddd95c7c-cc86-4869-af72-1dbb9260d555",
   "metadata": {},
   "outputs": [],
   "source": [
    "album_df = album_df.drop_duplicates(subset=['album_id'])"
   ]
  },
  {
   "cell_type": "code",
   "execution_count": 43,
   "id": "4614041c-527f-4841-a09e-6b7809be4bde",
   "metadata": {},
   "outputs": [],
   "source": [
    "artist_df = pd.DataFrame.from_dict(artist_list)"
   ]
  },
  {
   "cell_type": "code",
   "execution_count": 44,
   "id": "68e2687c-fd13-4ea6-ac09-569d2a4f73c2",
   "metadata": {},
   "outputs": [],
   "source": [
    "artist_df = artist_df.drop_duplicates(subset=['artist_id'])"
   ]
  },
  {
   "cell_type": "code",
   "execution_count": 45,
   "id": "4ef7d035-0849-4c85-a4d5-d7c4570311a9",
   "metadata": {},
   "outputs": [],
   "source": [
    "#Song Dataframe\n",
    "song_df = pd.DataFrame.from_dict(song_list)"
   ]
  },
  {
   "cell_type": "code",
   "execution_count": 46,
   "id": "cda3ad0f-d888-4507-98ff-9a4dd13d04ea",
   "metadata": {},
   "outputs": [
    {
     "data": {
      "text/html": [
       "<div>\n",
       "<style scoped>\n",
       "    .dataframe tbody tr th:only-of-type {\n",
       "        vertical-align: middle;\n",
       "    }\n",
       "\n",
       "    .dataframe tbody tr th {\n",
       "        vertical-align: top;\n",
       "    }\n",
       "\n",
       "    .dataframe thead th {\n",
       "        text-align: right;\n",
       "    }\n",
       "</style>\n",
       "<table border=\"1\" class=\"dataframe\">\n",
       "  <thead>\n",
       "    <tr style=\"text-align: right;\">\n",
       "      <th></th>\n",
       "      <th>song_id</th>\n",
       "      <th>song_name</th>\n",
       "      <th>duration_ms</th>\n",
       "      <th>url</th>\n",
       "      <th>popularity</th>\n",
       "      <th>song_added</th>\n",
       "      <th>album_id</th>\n",
       "      <th>artist_id</th>\n",
       "    </tr>\n",
       "  </thead>\n",
       "  <tbody>\n",
       "    <tr>\n",
       "      <th>0</th>\n",
       "      <td>4rzfv0JLZfVhOhbSQ8o5jZ</td>\n",
       "      <td>Api</td>\n",
       "      <td>376000</td>\n",
       "      <td>https://open.spotify.com/track/4rzfv0JLZfVhOhb...</td>\n",
       "      <td>0</td>\n",
       "      <td>2015-01-15T12:39:22Z</td>\n",
       "      <td>2pANdqPvxInB0YvcDiw4ko</td>\n",
       "      <td>0LyfQWJT6nXafLPZqxe9Of</td>\n",
       "    </tr>\n",
       "    <tr>\n",
       "      <th>1</th>\n",
       "      <td>5o3jMYOSbaVz3tkgwhELSV</td>\n",
       "      <td>Is</td>\n",
       "      <td>730066</td>\n",
       "      <td>https://open.spotify.com/track/5o3jMYOSbaVz3tk...</td>\n",
       "      <td>0</td>\n",
       "      <td>2015-01-15T12:40:03Z</td>\n",
       "      <td>6nlfkk5GoXRL1nktlATNsy</td>\n",
       "      <td>0LyfQWJT6nXafLPZqxe9Of</td>\n",
       "    </tr>\n",
       "    <tr>\n",
       "      <th>2</th>\n",
       "      <td>4Cy0NHJ8Gh0xMdwyM9RkQm</td>\n",
       "      <td>All I Want</td>\n",
       "      <td>401440</td>\n",
       "      <td>https://open.spotify.com/track/4Cy0NHJ8Gh0xMdw...</td>\n",
       "      <td>39</td>\n",
       "      <td>2015-01-15T12:22:30Z</td>\n",
       "      <td>4hnqM0JK4CM1phwfq1Ldyz</td>\n",
       "      <td>066X20Nz7iquqkkCW6Jxy6</td>\n",
       "    </tr>\n",
       "    <tr>\n",
       "      <th>3</th>\n",
       "      <td>6hvFrZNocdt2FcKGCSY5NI</td>\n",
       "      <td>Endpoints</td>\n",
       "      <td>358760</td>\n",
       "      <td>https://open.spotify.com/track/6hvFrZNocdt2FcK...</td>\n",
       "      <td>0</td>\n",
       "      <td>2015-01-15T12:40:35Z</td>\n",
       "      <td>2usKFntxa98WHMcyW6xJBz</td>\n",
       "      <td>272ArH9SUAlslQqsSgPJA2</td>\n",
       "    </tr>\n",
       "    <tr>\n",
       "      <th>4</th>\n",
       "      <td>2E2znCPaS8anQe21GLxcvJ</td>\n",
       "      <td>You Are So Beautiful</td>\n",
       "      <td>176093</td>\n",
       "      <td>https://open.spotify.com/track/2E2znCPaS8anQe2...</td>\n",
       "      <td>0</td>\n",
       "      <td>2015-01-15T12:41:10Z</td>\n",
       "      <td>0ivM6kSawaug0j3tZVusG2</td>\n",
       "      <td>2KftmGt9sk1yLjsAoloC3M</td>\n",
       "    </tr>\n",
       "  </tbody>\n",
       "</table>\n",
       "</div>"
      ],
      "text/plain": [
       "                  song_id             song_name  duration_ms  \\\n",
       "0  4rzfv0JLZfVhOhbSQ8o5jZ                   Api       376000   \n",
       "1  5o3jMYOSbaVz3tkgwhELSV                    Is       730066   \n",
       "2  4Cy0NHJ8Gh0xMdwyM9RkQm            All I Want       401440   \n",
       "3  6hvFrZNocdt2FcKGCSY5NI             Endpoints       358760   \n",
       "4  2E2znCPaS8anQe21GLxcvJ  You Are So Beautiful       176093   \n",
       "\n",
       "                                                 url  popularity  \\\n",
       "0  https://open.spotify.com/track/4rzfv0JLZfVhOhb...           0   \n",
       "1  https://open.spotify.com/track/5o3jMYOSbaVz3tk...           0   \n",
       "2  https://open.spotify.com/track/4Cy0NHJ8Gh0xMdw...          39   \n",
       "3  https://open.spotify.com/track/6hvFrZNocdt2FcK...           0   \n",
       "4  https://open.spotify.com/track/2E2znCPaS8anQe2...           0   \n",
       "\n",
       "             song_added                album_id               artist_id  \n",
       "0  2015-01-15T12:39:22Z  2pANdqPvxInB0YvcDiw4ko  0LyfQWJT6nXafLPZqxe9Of  \n",
       "1  2015-01-15T12:40:03Z  6nlfkk5GoXRL1nktlATNsy  0LyfQWJT6nXafLPZqxe9Of  \n",
       "2  2015-01-15T12:22:30Z  4hnqM0JK4CM1phwfq1Ldyz  066X20Nz7iquqkkCW6Jxy6  \n",
       "3  2015-01-15T12:40:35Z  2usKFntxa98WHMcyW6xJBz  272ArH9SUAlslQqsSgPJA2  \n",
       "4  2015-01-15T12:41:10Z  0ivM6kSawaug0j3tZVusG2  2KftmGt9sk1yLjsAoloC3M  "
      ]
     },
     "execution_count": 46,
     "metadata": {},
     "output_type": "execute_result"
    }
   ],
   "source": [
    "song_df.head()"
   ]
  },
  {
   "cell_type": "code",
   "execution_count": 47,
   "id": "0795d34d-9d3e-41dc-9643-0409dec4ba6e",
   "metadata": {},
   "outputs": [
    {
     "data": {
      "text/html": [
       "<div>\n",
       "<style scoped>\n",
       "    .dataframe tbody tr th:only-of-type {\n",
       "        vertical-align: middle;\n",
       "    }\n",
       "\n",
       "    .dataframe tbody tr th {\n",
       "        vertical-align: top;\n",
       "    }\n",
       "\n",
       "    .dataframe thead th {\n",
       "        text-align: right;\n",
       "    }\n",
       "</style>\n",
       "<table border=\"1\" class=\"dataframe\">\n",
       "  <thead>\n",
       "    <tr style=\"text-align: right;\">\n",
       "      <th></th>\n",
       "      <th>artist_id</th>\n",
       "      <th>artist_name</th>\n",
       "      <th>external_url</th>\n",
       "    </tr>\n",
       "  </thead>\n",
       "  <tbody>\n",
       "    <tr>\n",
       "      <th>0</th>\n",
       "      <td>6eSdhw46riw2OUHgMwR8B5</td>\n",
       "      <td>Odiseo</td>\n",
       "      <td>https://api.spotify.com/v1/artists/6eSdhw46riw...</td>\n",
       "    </tr>\n",
       "    <tr>\n",
       "      <th>1</th>\n",
       "      <td>5VQE4WOzPu9h3HnGLuBoA6</td>\n",
       "      <td>Vlasta Marek</td>\n",
       "      <td>https://api.spotify.com/v1/artists/5VQE4WOzPu9...</td>\n",
       "    </tr>\n",
       "    <tr>\n",
       "      <th>2</th>\n",
       "      <td>066X20Nz7iquqkkCW6Jxy6</td>\n",
       "      <td>LCD Soundsystem</td>\n",
       "      <td>https://api.spotify.com/v1/artists/066X20Nz7iq...</td>\n",
       "    </tr>\n",
       "    <tr>\n",
       "      <th>3</th>\n",
       "      <td>272ArH9SUAlslQqsSgPJA2</td>\n",
       "      <td>Glenn Horiuchi Trio</td>\n",
       "      <td>https://api.spotify.com/v1/artists/272ArH9SUAl...</td>\n",
       "    </tr>\n",
       "    <tr>\n",
       "      <th>4</th>\n",
       "      <td>2KftmGt9sk1yLjsAoloC3M</td>\n",
       "      <td>Zucchero</td>\n",
       "      <td>https://api.spotify.com/v1/artists/2KftmGt9sk1...</td>\n",
       "    </tr>\n",
       "  </tbody>\n",
       "</table>\n",
       "</div>"
      ],
      "text/plain": [
       "                artist_id          artist_name  \\\n",
       "0  6eSdhw46riw2OUHgMwR8B5               Odiseo   \n",
       "1  5VQE4WOzPu9h3HnGLuBoA6         Vlasta Marek   \n",
       "2  066X20Nz7iquqkkCW6Jxy6      LCD Soundsystem   \n",
       "3  272ArH9SUAlslQqsSgPJA2  Glenn Horiuchi Trio   \n",
       "4  2KftmGt9sk1yLjsAoloC3M             Zucchero   \n",
       "\n",
       "                                        external_url  \n",
       "0  https://api.spotify.com/v1/artists/6eSdhw46riw...  \n",
       "1  https://api.spotify.com/v1/artists/5VQE4WOzPu9...  \n",
       "2  https://api.spotify.com/v1/artists/066X20Nz7iq...  \n",
       "3  https://api.spotify.com/v1/artists/272ArH9SUAl...  \n",
       "4  https://api.spotify.com/v1/artists/2KftmGt9sk1...  "
      ]
     },
     "execution_count": 47,
     "metadata": {},
     "output_type": "execute_result"
    }
   ],
   "source": [
    "artist_df.head()"
   ]
  },
  {
   "cell_type": "code",
   "execution_count": 48,
   "id": "879f6539-6f94-43a3-8bf7-ea6eb6f6f11c",
   "metadata": {},
   "outputs": [
    {
     "data": {
      "text/html": [
       "<div>\n",
       "<style scoped>\n",
       "    .dataframe tbody tr th:only-of-type {\n",
       "        vertical-align: middle;\n",
       "    }\n",
       "\n",
       "    .dataframe tbody tr th {\n",
       "        vertical-align: top;\n",
       "    }\n",
       "\n",
       "    .dataframe thead th {\n",
       "        text-align: right;\n",
       "    }\n",
       "</style>\n",
       "<table border=\"1\" class=\"dataframe\">\n",
       "  <thead>\n",
       "    <tr style=\"text-align: right;\">\n",
       "      <th></th>\n",
       "      <th>album_id</th>\n",
       "      <th>name</th>\n",
       "      <th>release_date</th>\n",
       "      <th>total_tracks</th>\n",
       "      <th>url</th>\n",
       "    </tr>\n",
       "  </thead>\n",
       "  <tbody>\n",
       "    <tr>\n",
       "      <th>0</th>\n",
       "      <td>2pANdqPvxInB0YvcDiw4ko</td>\n",
       "      <td>Progressive Psy Trance Picks Vol.8</td>\n",
       "      <td>2012-04-02</td>\n",
       "      <td>20</td>\n",
       "      <td>https://open.spotify.com/album/2pANdqPvxInB0Yv...</td>\n",
       "    </tr>\n",
       "    <tr>\n",
       "      <th>1</th>\n",
       "      <td>6nlfkk5GoXRL1nktlATNsy</td>\n",
       "      <td>Wellness &amp; Dreaming Source</td>\n",
       "      <td>2015-01-09</td>\n",
       "      <td>25</td>\n",
       "      <td>https://open.spotify.com/album/6nlfkk5GoXRL1nk...</td>\n",
       "    </tr>\n",
       "    <tr>\n",
       "      <th>2</th>\n",
       "      <td>4hnqM0JK4CM1phwfq1Ldyz</td>\n",
       "      <td>This Is Happening</td>\n",
       "      <td>2010-05-17</td>\n",
       "      <td>9</td>\n",
       "      <td>https://open.spotify.com/album/4hnqM0JK4CM1phw...</td>\n",
       "    </tr>\n",
       "    <tr>\n",
       "      <th>3</th>\n",
       "      <td>2usKFntxa98WHMcyW6xJBz</td>\n",
       "      <td>Glenn Horiuchi Trio / Gelenn Horiuchi Quartet:...</td>\n",
       "      <td>2011-04-01</td>\n",
       "      <td>8</td>\n",
       "      <td>https://open.spotify.com/album/2usKFntxa98WHMc...</td>\n",
       "    </tr>\n",
       "    <tr>\n",
       "      <th>4</th>\n",
       "      <td>0ivM6kSawaug0j3tZVusG2</td>\n",
       "      <td>All The Best (Spanish Version)</td>\n",
       "      <td>2007-01-01</td>\n",
       "      <td>18</td>\n",
       "      <td>https://open.spotify.com/album/0ivM6kSawaug0j3...</td>\n",
       "    </tr>\n",
       "  </tbody>\n",
       "</table>\n",
       "</div>"
      ],
      "text/plain": [
       "                 album_id                                               name  \\\n",
       "0  2pANdqPvxInB0YvcDiw4ko                 Progressive Psy Trance Picks Vol.8   \n",
       "1  6nlfkk5GoXRL1nktlATNsy                         Wellness & Dreaming Source   \n",
       "2  4hnqM0JK4CM1phwfq1Ldyz                                  This Is Happening   \n",
       "3  2usKFntxa98WHMcyW6xJBz  Glenn Horiuchi Trio / Gelenn Horiuchi Quartet:...   \n",
       "4  0ivM6kSawaug0j3tZVusG2                     All The Best (Spanish Version)   \n",
       "\n",
       "  release_date  total_tracks  \\\n",
       "0   2012-04-02            20   \n",
       "1   2015-01-09            25   \n",
       "2   2010-05-17             9   \n",
       "3   2011-04-01             8   \n",
       "4   2007-01-01            18   \n",
       "\n",
       "                                                 url  \n",
       "0  https://open.spotify.com/album/2pANdqPvxInB0Yv...  \n",
       "1  https://open.spotify.com/album/6nlfkk5GoXRL1nk...  \n",
       "2  https://open.spotify.com/album/4hnqM0JK4CM1phw...  \n",
       "3  https://open.spotify.com/album/2usKFntxa98WHMc...  \n",
       "4  https://open.spotify.com/album/0ivM6kSawaug0j3...  "
      ]
     },
     "execution_count": 48,
     "metadata": {},
     "output_type": "execute_result"
    }
   ],
   "source": [
    "album_df.head()"
   ]
  },
  {
   "cell_type": "code",
   "execution_count": 49,
   "id": "3f20afe2-56e1-4b2b-89fb-778318905006",
   "metadata": {},
   "outputs": [],
   "source": [
    "album_df['release_date'] = pd.to_datetime(album_df['release_date'])"
   ]
  },
  {
   "cell_type": "code",
   "execution_count": 50,
   "id": "bb7181fd-4d4d-46a1-9e90-405eeeab0a0e",
   "metadata": {},
   "outputs": [],
   "source": [
    "song_df['song_added'] =  pd.to_datetime(song_df['song_added'])"
   ]
  },
  {
   "cell_type": "code",
   "execution_count": 51,
   "id": "e2a83475-8e71-4606-8265-40111b1b84c2",
   "metadata": {},
   "outputs": [
    {
     "name": "stdout",
     "output_type": "stream",
     "text": [
      "<class 'pandas.core.frame.DataFrame'>\n",
      "RangeIndex: 5 entries, 0 to 4\n",
      "Data columns (total 8 columns):\n",
      " #   Column       Non-Null Count  Dtype              \n",
      "---  ------       --------------  -----              \n",
      " 0   song_id      5 non-null      object             \n",
      " 1   song_name    5 non-null      object             \n",
      " 2   duration_ms  5 non-null      int64              \n",
      " 3   url          5 non-null      object             \n",
      " 4   popularity   5 non-null      int64              \n",
      " 5   song_added   5 non-null      datetime64[ns, UTC]\n",
      " 6   album_id     5 non-null      object             \n",
      " 7   artist_id    5 non-null      object             \n",
      "dtypes: datetime64[ns, UTC](1), int64(2), object(5)\n",
      "memory usage: 452.0+ bytes\n"
     ]
    }
   ],
   "source": [
    "song_df.info()"
   ]
  },
  {
   "cell_type": "code",
   "execution_count": null,
   "id": "7a39d0f3-db11-4088-9d3c-5bacf273fa87",
   "metadata": {},
   "outputs": [],
   "source": [
    "song_df.to_csv("
   ]
  }
 ],
 "metadata": {
  "kernelspec": {
   "display_name": "Python 3 (ipykernel)",
   "language": "python",
   "name": "python3"
  },
  "language_info": {
   "codemirror_mode": {
    "name": "ipython",
    "version": 3
   },
   "file_extension": ".py",
   "mimetype": "text/x-python",
   "name": "python",
   "nbconvert_exporter": "python",
   "pygments_lexer": "ipython3",
   "version": "3.13.2"
  }
 },
 "nbformat": 4,
 "nbformat_minor": 5
}
